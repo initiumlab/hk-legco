{
 "cells": [
  {
   "cell_type": "markdown",
   "metadata": {},
   "source": [
    "# LegCoHK\n",
    "\n",
    "Author: [Pili Hu](http://hupili.net/)\n",
    "\n",
    "GitHub repo: https://github.com/hupili/legcohk\n",
    "\n",
    "Related notebooks:\n",
    "\n",
    "   * PCA for [ENGG4030](https://course.ie.cuhk.edu.hk/~engg4030/): http://bit.ly/1riabfV\n",
    "   * Recommender System for [ENGG4030](https://course.ie.cuhk.edu.hk/~engg4030/): http://bit.ly/QwNvLZ\n",
    "   * Graph Analysis for [ENGG4030](https://course.ie.cuhk.edu.hk/~engg4030/): http://bit.ly/1mxjuqu\n",
    "   \n",
    "Compared with the above notebooks, \n",
    "this repo contains more compact notes covering the whole data mining flow --\n",
    "from data collection to final visualization.\n",
    "Interpretations will note be provided in the notes directly.\n",
    "If you have interest, you can dump your thoughts on the [issue tracker](https://github.com/hupili/legcohk/issues).\n",
    "You can also request other features there."
   ]
  },
  {
   "cell_type": "markdown",
   "metadata": {},
   "source": [
    "## Preparation"
   ]
  },
  {
   "cell_type": "code",
   "execution_count": 1,
   "metadata": {
    "collapsed": false
   },
   "outputs": [],
   "source": [
    "import requests\n",
    "import pylab as pl\n",
    "from pyquery import PyQuery as pq\n",
    "import numpy as np\n",
    "from matplotlib import pyplot as plt\n",
    "import scipy\n",
    "import pandas as pd\n",
    "from lxml import etree\n",
    "import config\n",
    "import os\n",
    "from os import path\n",
    "\n",
    "#%matplotlib inline"
   ]
  },
  {
   "cell_type": "code",
   "execution_count": 2,
   "metadata": {
    "collapsed": false
   },
   "outputs": [
    {
     "data": {
      "text/plain": [
       "70"
      ]
     },
     "execution_count": 2,
     "metadata": {},
     "output_type": "execute_result"
    }
   ],
   "source": [
    "# df = pd.DataFrame(records, columns = ['topic_id', 'member_id', 'vote'] + info_fields)\n",
    "# df.to_csv('records-all-with-info.csv', encoding='utf-8')\n",
    "df = pd.read_csv(path.join(config.DIR_DATA_ROOT, 'records-all-with-info.csv'), \n",
    "                 encoding='utf-8')\n",
    "df[:5]\n",
    "len(df['name-ch'].unique())\n",
    "# 郭偉強, 郭偉强"
   ]
  },
  {
   "cell_type": "code",
   "execution_count": 3,
   "metadata": {
    "collapsed": false
   },
   "outputs": [
    {
     "name": "stdout",
     "output_type": "stream",
     "text": [
      "曾鈺成\n",
      "何俊仁\n",
      "李卓人\n",
      "涂謹申\n",
      "陳鑑林\n",
      "梁耀忠\n",
      "劉皇發\n",
      "劉慧卿\n",
      "譚耀宗\n",
      "石禮謙\n",
      "張宇人\n",
      "馮檢基\n",
      "方剛\n",
      "王國興\n",
      "李國麟\n",
      "林健鋒\n",
      "梁君彥\n",
      "黃定光\n",
      "湯家驊\n",
      "何秀蘭\n",
      "李慧琼\n",
      "林大輝\n",
      "陳克勤\n",
      "陳健波\n",
      "梁美芬\n",
      "梁家騮\n",
      "張國柱\n",
      "黃國健\n",
      "葉國謙\n",
      "葉劉淑儀\n",
      "謝偉俊\n",
      "梁家傑\n",
      "梁國雄\n",
      "陳偉業\n",
      "黃毓民\n",
      "毛孟靜\n",
      "田北辰\n",
      "田北俊\n",
      "吳亮星\n",
      "何俊賢\n",
      "易志明\n",
      "胡志偉\n",
      "姚思榮\n",
      "范國威\n",
      "馬逢國\n",
      "莫乃光\n",
      "陳志全\n",
      "陳恒鑌\n",
      "陳家洛\n",
      "陳婉嫻\n",
      "梁志祥\n",
      "梁繼昌\n",
      "麥美娟\n",
      "郭家麒\n",
      "郭偉强\n",
      "郭榮鏗\n",
      "張華峰\n",
      "張超雄\n",
      "單仲偕\n",
      "黃碧雲\n",
      "葉建源\n",
      "葛珮帆\n",
      "廖長江\n",
      "潘兆平\n",
      "鄧家彪\n",
      "蔣麗芸\n",
      "盧偉國\n",
      "鍾國斌\n",
      "鍾樹根\n",
      "謝偉銓\n"
     ]
    }
   ],
   "source": [
    "for n in df['name-ch'].unique():\n",
    "    print(n)"
   ]
  },
  {
   "cell_type": "code",
   "execution_count": 4,
   "metadata": {
    "collapsed": false,
    "scrolled": true
   },
   "outputs": [
    {
     "data": {
      "text/html": [
       "<div>\n",
       "<table border=\"1\" class=\"dataframe\">\n",
       "  <thead>\n",
       "    <tr style=\"text-align: right;\">\n",
       "      <th></th>\n",
       "      <th>topic_id</th>\n",
       "      <th>member_id</th>\n",
       "      <th>vote</th>\n",
       "    </tr>\n",
       "  </thead>\n",
       "  <tbody>\n",
       "    <tr>\n",
       "      <th>0</th>\n",
       "      <td>17/10/2012-1</td>\n",
       "      <td>TSANG Yok-sing</td>\n",
       "      <td>Present</td>\n",
       "    </tr>\n",
       "    <tr>\n",
       "      <th>1</th>\n",
       "      <td>17/10/2012-1</td>\n",
       "      <td>Albert HO</td>\n",
       "      <td>Yes</td>\n",
       "    </tr>\n",
       "    <tr>\n",
       "      <th>2</th>\n",
       "      <td>17/10/2012-1</td>\n",
       "      <td>LEE Cheuk-yan</td>\n",
       "      <td>Yes</td>\n",
       "    </tr>\n",
       "    <tr>\n",
       "      <th>3</th>\n",
       "      <td>17/10/2012-1</td>\n",
       "      <td>James TO</td>\n",
       "      <td>Yes</td>\n",
       "    </tr>\n",
       "    <tr>\n",
       "      <th>4</th>\n",
       "      <td>17/10/2012-1</td>\n",
       "      <td>CHAN Kam-lam</td>\n",
       "      <td>No</td>\n",
       "    </tr>\n",
       "  </tbody>\n",
       "</table>\n",
       "</div>"
      ],
      "text/plain": [
       "       topic_id       member_id     vote\n",
       "0  17/10/2012-1  TSANG Yok-sing  Present\n",
       "1  17/10/2012-1       Albert HO      Yes\n",
       "2  17/10/2012-1   LEE Cheuk-yan      Yes\n",
       "3  17/10/2012-1        James TO      Yes\n",
       "4  17/10/2012-1    CHAN Kam-lam       No"
      ]
     },
     "execution_count": 4,
     "metadata": {},
     "output_type": "execute_result"
    }
   ],
   "source": [
    "# df = pd.read_csv(path.join(config.DIR_DATA_ROOT, 'records-all.csv'), \n",
    "#                 encoding='utf-8')\n",
    "\n",
    "df = df[['topic_id', 'member_id', 'vote']]\n",
    "# df.to_csv('records-all.csv', encoding='utf-8')\n",
    "df[:5]"
   ]
  },
  {
   "cell_type": "markdown",
   "metadata": {},
   "source": [
    "## Let's play"
   ]
  },
  {
   "cell_type": "code",
   "execution_count": 5,
   "metadata": {
    "collapsed": false
   },
   "outputs": [
    {
     "name": "stdout",
     "output_type": "stream",
     "text": [
      "total # of motions: 2928\n",
      "total # of members: 70\n",
      "total # of records: 204960\n"
     ]
    }
   ],
   "source": [
    "print('total # of motions:', len(df['topic_id'].unique()))\n",
    "print('total # of members:',len(df['member_id'].unique()))\n",
    "print('total # of records:', len(df))"
   ]
  },
  {
   "cell_type": "markdown",
   "metadata": {},
   "source": [
    "**NOTE**: Do sanity check, whether the numbers multiply to the total number of records"
   ]
  },
  {
   "cell_type": "code",
   "execution_count": 6,
   "metadata": {
    "collapsed": false
   },
   "outputs": [
    {
     "name": "stdout",
     "output_type": "stream",
     "text": [
      "['Present' 'Yes' 'No' 'Absent' 'Abstain']\n"
     ]
    }
   ],
   "source": [
    "print(df['vote'].unique())"
   ]
  },
  {
   "cell_type": "code",
   "execution_count": 7,
   "metadata": {
    "collapsed": false
   },
   "outputs": [
    {
     "name": "stdout",
     "output_type": "stream",
     "text": [
      "['TSANG Yok-sing' 'Albert HO' 'LEE Cheuk-yan' 'James TO' 'CHAN Kam-lam'\n",
      " 'LEUNG Yiu-chung' 'Dr LAU Wong-fat' 'Emily LAU' 'TAM Yiu-chung'\n",
      " 'Abraham SHEK' 'Tommy CHEUNG' 'Frederick FUNG' 'Vincent FANG'\n",
      " 'WONG Kwok-hing' 'Prof Joseph LEE' 'Jeffrey LAM' 'Andrew LEUNG'\n",
      " 'WONG Ting-kwong' 'Ronny TONG' 'Cyd HO' 'Starry LEE' 'Dr LAM Tai-fai'\n",
      " 'CHAN Hak-kan' 'CHAN Kin-por' 'Dr Priscilla LEUNG' 'Dr LEUNG Ka-lau'\n",
      " 'CHEUNG Kwok-che' 'WONG Kwok-kin' 'IP Kwok-him' 'Mrs Regina IP' 'Paul TSE'\n",
      " 'Alan LEONG' 'LEUNG Kwok-hung' 'Albert CHAN' 'WONG Yuk-man' 'Claudia MO'\n",
      " 'Michael TIEN' 'James TIEN' 'NG Leung-sing' 'Steven HO' 'Frankie YICK'\n",
      " 'WU Chi-wai' 'YIU Si-wing' 'Gary FAN' 'MA Fung-kwok' 'Charles Peter MOK'\n",
      " 'CHAN Chi-chuen' 'CHAN Han-pan' 'Dr Kenneth CHAN' 'CHAN Yuen-han'\n",
      " 'LEUNG Che-cheung' 'Kenneth LEUNG' 'Alice MAK' 'Dr KWOK Ka-ki'\n",
      " 'KWOK Wai-keung' 'Dennis KWOK' 'Christopher CHEUNG' 'Dr Fernando CHEUNG'\n",
      " 'SIN Chung-kai' 'Dr Helena WONG' 'IP Kin-yuen' 'Dr Elizabeth QUAT'\n",
      " 'Martin LIAO' 'POON Siu-ping' 'TANG Ka-piu' 'Dr CHIANG Lai-wan'\n",
      " 'Ir Dr LO Wai-kwok' 'CHUNG Kwok-pan' 'Christopher CHUNG' 'Tony TSE']\n"
     ]
    }
   ],
   "source": [
    "print(df['member_id'].unique())"
   ]
  },
  {
   "cell_type": "code",
   "execution_count": 8,
   "metadata": {
    "collapsed": false
   },
   "outputs": [
    {
     "name": "stdout",
     "output_type": "stream",
     "text": [
      "['17/10/2012-1' '17/10/2012-2' '17/10/2012-3' ..., '25/06/2015-5'\n",
      " '25/06/2015-6' '25/06/2015-7']\n"
     ]
    }
   ],
   "source": [
    "print(df['topic_id'].unique())"
   ]
  },
  {
   "cell_type": "code",
   "execution_count": 9,
   "metadata": {
    "collapsed": false
   },
   "outputs": [
    {
     "data": {
      "text/html": [
       "<div>\n",
       "<table border=\"1\" class=\"dataframe\">\n",
       "  <thead>\n",
       "    <tr style=\"text-align: right;\">\n",
       "      <th></th>\n",
       "      <th>Present</th>\n",
       "      <th>Yes</th>\n",
       "      <th>No</th>\n",
       "      <th>Absent</th>\n",
       "      <th>Abstain</th>\n",
       "    </tr>\n",
       "  </thead>\n",
       "  <tbody>\n",
       "    <tr>\n",
       "      <th>0</th>\n",
       "      <td>(TSANG Yok-sing, 2902)</td>\n",
       "      <td>(LEUNG Kwok-hung, 1833)</td>\n",
       "      <td>(Ir Dr LO Wai-kwok, 2396)</td>\n",
       "      <td>(Dr LEUNG Ka-lau, 2600)</td>\n",
       "      <td>(Gary FAN, 482)</td>\n",
       "    </tr>\n",
       "    <tr>\n",
       "      <th>1</th>\n",
       "      <td>(Emily LAU, 1099)</td>\n",
       "      <td>(Albert CHAN, 1762)</td>\n",
       "      <td>(TAM Yiu-chung, 2378)</td>\n",
       "      <td>(Ronny TONG, 2487)</td>\n",
       "      <td>(MA Fung-kwok, 123)</td>\n",
       "    </tr>\n",
       "    <tr>\n",
       "      <th>2</th>\n",
       "      <td>(SIN Chung-kai, 1083)</td>\n",
       "      <td>(CHAN Chi-chuen, 1658)</td>\n",
       "      <td>(WONG Ting-kwong, 2357)</td>\n",
       "      <td>(LEUNG Yiu-chung, 2454)</td>\n",
       "      <td>(IP Kwok-him, 119)</td>\n",
       "    </tr>\n",
       "    <tr>\n",
       "      <th>3</th>\n",
       "      <td>(CHEUNG Kwok-che, 1045)</td>\n",
       "      <td>(WONG Yuk-man, 603)</td>\n",
       "      <td>(POON Siu-ping, 2303)</td>\n",
       "      <td>(Frederick FUNG, 2357)</td>\n",
       "      <td>(CHAN Kam-lam, 117)</td>\n",
       "    </tr>\n",
       "    <tr>\n",
       "      <th>4</th>\n",
       "      <td>(Cyd HO, 991)</td>\n",
       "      <td>(Charles Peter MOK, 491)</td>\n",
       "      <td>(Christopher CHEUNG, 2298)</td>\n",
       "      <td>(James TO, 2334)</td>\n",
       "      <td>(Steven HO, 117)</td>\n",
       "    </tr>\n",
       "  </tbody>\n",
       "</table>\n",
       "</div>"
      ],
      "text/plain": [
       "                   Present                       Yes  \\\n",
       "0   (TSANG Yok-sing, 2902)   (LEUNG Kwok-hung, 1833)   \n",
       "1        (Emily LAU, 1099)       (Albert CHAN, 1762)   \n",
       "2    (SIN Chung-kai, 1083)    (CHAN Chi-chuen, 1658)   \n",
       "3  (CHEUNG Kwok-che, 1045)       (WONG Yuk-man, 603)   \n",
       "4            (Cyd HO, 991)  (Charles Peter MOK, 491)   \n",
       "\n",
       "                           No                   Absent              Abstain  \n",
       "0   (Ir Dr LO Wai-kwok, 2396)  (Dr LEUNG Ka-lau, 2600)      (Gary FAN, 482)  \n",
       "1       (TAM Yiu-chung, 2378)       (Ronny TONG, 2487)  (MA Fung-kwok, 123)  \n",
       "2     (WONG Ting-kwong, 2357)  (LEUNG Yiu-chung, 2454)   (IP Kwok-him, 119)  \n",
       "3       (POON Siu-ping, 2303)   (Frederick FUNG, 2357)  (CHAN Kam-lam, 117)  \n",
       "4  (Christopher CHEUNG, 2298)         (James TO, 2334)     (Steven HO, 117)  "
      ]
     },
     "execution_count": 9,
     "metadata": {},
     "output_type": "execute_result"
    }
   ],
   "source": [
    "# A leader board of voting types\n",
    "board_pos = pd.DataFrame(index=range(0,5))\n",
    "for v in df['vote'].unique():\n",
    "    count = df[df['vote']==v].groupby('member_id').count().sort('vote', ascending=False)['vote']\n",
    "    count = count.reset_index()[:5]\n",
    "    board_pos[v] = pd.Series(list(zip(count['member_id'], count['vote'])), index=range(0,5))\n",
    "board_pos"
   ]
  },
  {
   "cell_type": "code",
   "execution_count": 10,
   "metadata": {
    "collapsed": false
   },
   "outputs": [
    {
     "data": {
      "text/html": [
       "<div>\n",
       "<table border=\"1\" class=\"dataframe\">\n",
       "  <thead>\n",
       "    <tr style=\"text-align: right;\">\n",
       "      <th></th>\n",
       "      <th>Present</th>\n",
       "      <th>Yes</th>\n",
       "      <th>No</th>\n",
       "      <th>Absent</th>\n",
       "      <th>Abstain</th>\n",
       "    </tr>\n",
       "  </thead>\n",
       "  <tbody>\n",
       "    <tr>\n",
       "      <th>0</th>\n",
       "      <td>(YIU Si-wing, 1)</td>\n",
       "      <td>(Dr LAU Wong-fat, 106)</td>\n",
       "      <td>(James TO, 72)</td>\n",
       "      <td>(TSANG Yok-sing, 26)</td>\n",
       "      <td>(Dennis KWOK, 14)</td>\n",
       "    </tr>\n",
       "    <tr>\n",
       "      <th>1</th>\n",
       "      <td>(James TIEN, 1)</td>\n",
       "      <td>(Abraham SHEK, 116)</td>\n",
       "      <td>(Ronny TONG, 72)</td>\n",
       "      <td>(POON Siu-ping, 39)</td>\n",
       "      <td>(Dr LAU Wong-fat, 15)</td>\n",
       "    </tr>\n",
       "    <tr>\n",
       "      <th>2</th>\n",
       "      <td>(Dr CHIANG Lai-wan, 1)</td>\n",
       "      <td>(Dr LEUNG Ka-lau, 144)</td>\n",
       "      <td>(Prof Joseph LEE, 80)</td>\n",
       "      <td>(TAM Yiu-chung, 51)</td>\n",
       "      <td>(Vincent FANG, 15)</td>\n",
       "    </tr>\n",
       "    <tr>\n",
       "      <th>3</th>\n",
       "      <td>(NG Leung-sing, 1)</td>\n",
       "      <td>(Dr LAM Tai-fai, 170)</td>\n",
       "      <td>(Albert HO, 80)</td>\n",
       "      <td>(WONG Ting-kwong, 92)</td>\n",
       "      <td>(Frederick FUNG, 18)</td>\n",
       "    </tr>\n",
       "    <tr>\n",
       "      <th>4</th>\n",
       "      <td>(IP Kwok-him, 1)</td>\n",
       "      <td>(Vincent FANG, 190)</td>\n",
       "      <td>(IP Kin-yuen, 82)</td>\n",
       "      <td>(Ir Dr LO Wai-kwok, 107)</td>\n",
       "      <td>(Charles Peter MOK, 19)</td>\n",
       "    </tr>\n",
       "  </tbody>\n",
       "</table>\n",
       "</div>"
      ],
      "text/plain": [
       "                  Present                     Yes                     No  \\\n",
       "0        (YIU Si-wing, 1)  (Dr LAU Wong-fat, 106)         (James TO, 72)   \n",
       "1         (James TIEN, 1)     (Abraham SHEK, 116)       (Ronny TONG, 72)   \n",
       "2  (Dr CHIANG Lai-wan, 1)  (Dr LEUNG Ka-lau, 144)  (Prof Joseph LEE, 80)   \n",
       "3      (NG Leung-sing, 1)   (Dr LAM Tai-fai, 170)        (Albert HO, 80)   \n",
       "4        (IP Kwok-him, 1)     (Vincent FANG, 190)      (IP Kin-yuen, 82)   \n",
       "\n",
       "                     Absent                  Abstain  \n",
       "0      (TSANG Yok-sing, 26)        (Dennis KWOK, 14)  \n",
       "1       (POON Siu-ping, 39)    (Dr LAU Wong-fat, 15)  \n",
       "2       (TAM Yiu-chung, 51)       (Vincent FANG, 15)  \n",
       "3     (WONG Ting-kwong, 92)     (Frederick FUNG, 18)  \n",
       "4  (Ir Dr LO Wai-kwok, 107)  (Charles Peter MOK, 19)  "
      ]
     },
     "execution_count": 10,
     "metadata": {},
     "output_type": "execute_result"
    }
   ],
   "source": [
    "board_neg = pd.DataFrame(index=range(0,5))\n",
    "for v in df['vote'].unique():\n",
    "    count = df[df['vote']==v].groupby('member_id').count().sort('vote', ascending=True)['vote']\n",
    "    count = count.reset_index()[:5]\n",
    "    board_neg[v] = pd.Series(list(zip(count['member_id'], count['vote'])), index=range(0,5))\n",
    "board_neg"
   ]
  },
  {
   "cell_type": "code",
   "execution_count": 11,
   "metadata": {
    "collapsed": false
   },
   "outputs": [
    {
     "data": {
      "text/html": [
       "<div>\n",
       "<table border=\"1\" class=\"dataframe\">\n",
       "  <thead>\n",
       "    <tr style=\"text-align: right;\">\n",
       "      <th></th>\n",
       "      <th>01/02/2013-1</th>\n",
       "      <th>01/02/2013-2</th>\n",
       "      <th>01/02/2013-3</th>\n",
       "      <th>01/02/2013-4</th>\n",
       "      <th>01/02/2013-5</th>\n",
       "      <th>01/02/2013-6</th>\n",
       "      <th>01/02/2013-7</th>\n",
       "      <th>01/02/2013-8</th>\n",
       "      <th>03/06/2015-1</th>\n",
       "      <th>03/06/2015-10</th>\n",
       "      <th>...</th>\n",
       "      <th>31/10/2012-2</th>\n",
       "      <th>31/10/2012-3</th>\n",
       "      <th>31/10/2012-4</th>\n",
       "      <th>31/10/2012-5</th>\n",
       "      <th>31/10/2012-6</th>\n",
       "      <th>31/10/2012-7</th>\n",
       "      <th>31/10/2012-8</th>\n",
       "      <th>31/10/2012-9</th>\n",
       "      <th>31/10/2014-38</th>\n",
       "      <th>31/10/2014-39</th>\n",
       "    </tr>\n",
       "  </thead>\n",
       "  <tbody>\n",
       "    <tr>\n",
       "      <th>TSANG Yok-sing</th>\n",
       "      <td>Present</td>\n",
       "      <td>Present</td>\n",
       "      <td>Present</td>\n",
       "      <td>Present</td>\n",
       "      <td>Present</td>\n",
       "      <td>Present</td>\n",
       "      <td>Present</td>\n",
       "      <td>Present</td>\n",
       "      <td>Present</td>\n",
       "      <td>Present</td>\n",
       "      <td>...</td>\n",
       "      <td>Present</td>\n",
       "      <td>Present</td>\n",
       "      <td>Present</td>\n",
       "      <td>Present</td>\n",
       "      <td>Present</td>\n",
       "      <td>Present</td>\n",
       "      <td>Present</td>\n",
       "      <td>Present</td>\n",
       "      <td>Present</td>\n",
       "      <td>Present</td>\n",
       "    </tr>\n",
       "    <tr>\n",
       "      <th>Albert HO</th>\n",
       "      <td>Yes</td>\n",
       "      <td>Yes</td>\n",
       "      <td>Yes</td>\n",
       "      <td>Yes</td>\n",
       "      <td>No</td>\n",
       "      <td>Yes</td>\n",
       "      <td>Yes</td>\n",
       "      <td>No</td>\n",
       "      <td>Present</td>\n",
       "      <td>Absent</td>\n",
       "      <td>...</td>\n",
       "      <td>Yes</td>\n",
       "      <td>Yes</td>\n",
       "      <td>Yes</td>\n",
       "      <td>Yes</td>\n",
       "      <td>Yes</td>\n",
       "      <td>Yes</td>\n",
       "      <td>No</td>\n",
       "      <td>No</td>\n",
       "      <td>Yes</td>\n",
       "      <td>No</td>\n",
       "    </tr>\n",
       "    <tr>\n",
       "      <th>LEE Cheuk-yan</th>\n",
       "      <td>Yes</td>\n",
       "      <td>Yes</td>\n",
       "      <td>Yes</td>\n",
       "      <td>Yes</td>\n",
       "      <td>Yes</td>\n",
       "      <td>Yes</td>\n",
       "      <td>Yes</td>\n",
       "      <td>No</td>\n",
       "      <td>Present</td>\n",
       "      <td>Absent</td>\n",
       "      <td>...</td>\n",
       "      <td>Absent</td>\n",
       "      <td>Absent</td>\n",
       "      <td>Absent</td>\n",
       "      <td>Absent</td>\n",
       "      <td>Absent</td>\n",
       "      <td>Absent</td>\n",
       "      <td>Absent</td>\n",
       "      <td>Absent</td>\n",
       "      <td>Yes</td>\n",
       "      <td>No</td>\n",
       "    </tr>\n",
       "    <tr>\n",
       "      <th>James TO</th>\n",
       "      <td>Yes</td>\n",
       "      <td>Yes</td>\n",
       "      <td>Yes</td>\n",
       "      <td>Yes</td>\n",
       "      <td>No</td>\n",
       "      <td>Yes</td>\n",
       "      <td>Yes</td>\n",
       "      <td>No</td>\n",
       "      <td>Absent</td>\n",
       "      <td>Absent</td>\n",
       "      <td>...</td>\n",
       "      <td>Yes</td>\n",
       "      <td>Yes</td>\n",
       "      <td>Yes</td>\n",
       "      <td>Absent</td>\n",
       "      <td>Absent</td>\n",
       "      <td>Absent</td>\n",
       "      <td>Absent</td>\n",
       "      <td>Absent</td>\n",
       "      <td>Yes</td>\n",
       "      <td>No</td>\n",
       "    </tr>\n",
       "    <tr>\n",
       "      <th>CHAN Kam-lam</th>\n",
       "      <td>No</td>\n",
       "      <td>No</td>\n",
       "      <td>No</td>\n",
       "      <td>No</td>\n",
       "      <td>Abstain</td>\n",
       "      <td>No</td>\n",
       "      <td>No</td>\n",
       "      <td>Yes</td>\n",
       "      <td>Yes</td>\n",
       "      <td>No</td>\n",
       "      <td>...</td>\n",
       "      <td>Abstain</td>\n",
       "      <td>Abstain</td>\n",
       "      <td>Abstain</td>\n",
       "      <td>Abstain</td>\n",
       "      <td>Abstain</td>\n",
       "      <td>Abstain</td>\n",
       "      <td>Yes</td>\n",
       "      <td>Abstain</td>\n",
       "      <td>No</td>\n",
       "      <td>Yes</td>\n",
       "    </tr>\n",
       "  </tbody>\n",
       "</table>\n",
       "<p>5 rows × 2928 columns</p>\n",
       "</div>"
      ],
      "text/plain": [
       "               01/02/2013-1 01/02/2013-2 01/02/2013-3 01/02/2013-4  \\\n",
       "TSANG Yok-sing      Present      Present      Present      Present   \n",
       "Albert HO               Yes          Yes          Yes          Yes   \n",
       "LEE Cheuk-yan           Yes          Yes          Yes          Yes   \n",
       "James TO                Yes          Yes          Yes          Yes   \n",
       "CHAN Kam-lam             No           No           No           No   \n",
       "\n",
       "               01/02/2013-5 01/02/2013-6 01/02/2013-7 01/02/2013-8  \\\n",
       "TSANG Yok-sing      Present      Present      Present      Present   \n",
       "Albert HO                No          Yes          Yes           No   \n",
       "LEE Cheuk-yan           Yes          Yes          Yes           No   \n",
       "James TO                 No          Yes          Yes           No   \n",
       "CHAN Kam-lam        Abstain           No           No          Yes   \n",
       "\n",
       "               03/06/2015-1 03/06/2015-10      ...      31/10/2012-2  \\\n",
       "TSANG Yok-sing      Present       Present      ...           Present   \n",
       "Albert HO           Present        Absent      ...               Yes   \n",
       "LEE Cheuk-yan       Present        Absent      ...            Absent   \n",
       "James TO             Absent        Absent      ...               Yes   \n",
       "CHAN Kam-lam            Yes            No      ...           Abstain   \n",
       "\n",
       "               31/10/2012-3 31/10/2012-4 31/10/2012-5 31/10/2012-6  \\\n",
       "TSANG Yok-sing      Present      Present      Present      Present   \n",
       "Albert HO               Yes          Yes          Yes          Yes   \n",
       "LEE Cheuk-yan        Absent       Absent       Absent       Absent   \n",
       "James TO                Yes          Yes       Absent       Absent   \n",
       "CHAN Kam-lam        Abstain      Abstain      Abstain      Abstain   \n",
       "\n",
       "               31/10/2012-7 31/10/2012-8 31/10/2012-9 31/10/2014-38  \\\n",
       "TSANG Yok-sing      Present      Present      Present       Present   \n",
       "Albert HO               Yes           No           No           Yes   \n",
       "LEE Cheuk-yan        Absent       Absent       Absent           Yes   \n",
       "James TO             Absent       Absent       Absent           Yes   \n",
       "CHAN Kam-lam        Abstain          Yes      Abstain            No   \n",
       "\n",
       "               31/10/2014-39  \n",
       "TSANG Yok-sing       Present  \n",
       "Albert HO                 No  \n",
       "LEE Cheuk-yan             No  \n",
       "James TO                  No  \n",
       "CHAN Kam-lam             Yes  \n",
       "\n",
       "[5 rows x 2928 columns]"
      ]
     },
     "execution_count": 11,
     "metadata": {},
     "output_type": "execute_result"
    }
   ],
   "source": [
    "df_matrix = pd.DataFrame(index=df['member_id'].unique())\n",
    "for gn, g in df.groupby('topic_id'):\n",
    "    df_matrix[gn] = g.set_index('member_id')['vote']\n",
    "df_matrix_orig = df_matrix\n",
    "df_matrix[:5]"
   ]
  },
  {
   "cell_type": "code",
   "execution_count": 12,
   "metadata": {
    "collapsed": false
   },
   "outputs": [
    {
     "data": {
      "text/html": [
       "<div>\n",
       "<table border=\"1\" class=\"dataframe\">\n",
       "  <thead>\n",
       "    <tr style=\"text-align: right;\">\n",
       "      <th></th>\n",
       "      <th>01/02/2013-1</th>\n",
       "      <th>01/02/2013-2</th>\n",
       "      <th>01/02/2013-3</th>\n",
       "      <th>01/02/2013-4</th>\n",
       "      <th>01/02/2013-5</th>\n",
       "      <th>01/02/2013-6</th>\n",
       "      <th>01/02/2013-7</th>\n",
       "      <th>01/02/2013-8</th>\n",
       "      <th>03/06/2015-1</th>\n",
       "      <th>03/06/2015-10</th>\n",
       "      <th>...</th>\n",
       "      <th>31/10/2012-2</th>\n",
       "      <th>31/10/2012-3</th>\n",
       "      <th>31/10/2012-4</th>\n",
       "      <th>31/10/2012-5</th>\n",
       "      <th>31/10/2012-6</th>\n",
       "      <th>31/10/2012-7</th>\n",
       "      <th>31/10/2012-8</th>\n",
       "      <th>31/10/2012-9</th>\n",
       "      <th>31/10/2014-38</th>\n",
       "      <th>31/10/2014-39</th>\n",
       "    </tr>\n",
       "  </thead>\n",
       "  <tbody>\n",
       "    <tr>\n",
       "      <th>TSANG Yok-sing</th>\n",
       "      <td>0</td>\n",
       "      <td>0</td>\n",
       "      <td>0</td>\n",
       "      <td>0</td>\n",
       "      <td>0</td>\n",
       "      <td>0</td>\n",
       "      <td>0</td>\n",
       "      <td>0</td>\n",
       "      <td>0</td>\n",
       "      <td>0</td>\n",
       "      <td>...</td>\n",
       "      <td>0</td>\n",
       "      <td>0</td>\n",
       "      <td>0</td>\n",
       "      <td>0</td>\n",
       "      <td>0</td>\n",
       "      <td>0</td>\n",
       "      <td>0</td>\n",
       "      <td>0</td>\n",
       "      <td>0</td>\n",
       "      <td>0</td>\n",
       "    </tr>\n",
       "    <tr>\n",
       "      <th>Albert HO</th>\n",
       "      <td>1</td>\n",
       "      <td>1</td>\n",
       "      <td>1</td>\n",
       "      <td>1</td>\n",
       "      <td>-1</td>\n",
       "      <td>1</td>\n",
       "      <td>1</td>\n",
       "      <td>-1</td>\n",
       "      <td>0</td>\n",
       "      <td>0</td>\n",
       "      <td>...</td>\n",
       "      <td>1</td>\n",
       "      <td>1</td>\n",
       "      <td>1</td>\n",
       "      <td>1</td>\n",
       "      <td>1</td>\n",
       "      <td>1</td>\n",
       "      <td>-1</td>\n",
       "      <td>-1</td>\n",
       "      <td>1</td>\n",
       "      <td>-1</td>\n",
       "    </tr>\n",
       "    <tr>\n",
       "      <th>LEE Cheuk-yan</th>\n",
       "      <td>1</td>\n",
       "      <td>1</td>\n",
       "      <td>1</td>\n",
       "      <td>1</td>\n",
       "      <td>1</td>\n",
       "      <td>1</td>\n",
       "      <td>1</td>\n",
       "      <td>-1</td>\n",
       "      <td>0</td>\n",
       "      <td>0</td>\n",
       "      <td>...</td>\n",
       "      <td>0</td>\n",
       "      <td>0</td>\n",
       "      <td>0</td>\n",
       "      <td>0</td>\n",
       "      <td>0</td>\n",
       "      <td>0</td>\n",
       "      <td>0</td>\n",
       "      <td>0</td>\n",
       "      <td>1</td>\n",
       "      <td>-1</td>\n",
       "    </tr>\n",
       "    <tr>\n",
       "      <th>James TO</th>\n",
       "      <td>1</td>\n",
       "      <td>1</td>\n",
       "      <td>1</td>\n",
       "      <td>1</td>\n",
       "      <td>-1</td>\n",
       "      <td>1</td>\n",
       "      <td>1</td>\n",
       "      <td>-1</td>\n",
       "      <td>0</td>\n",
       "      <td>0</td>\n",
       "      <td>...</td>\n",
       "      <td>1</td>\n",
       "      <td>1</td>\n",
       "      <td>1</td>\n",
       "      <td>0</td>\n",
       "      <td>0</td>\n",
       "      <td>0</td>\n",
       "      <td>0</td>\n",
       "      <td>0</td>\n",
       "      <td>1</td>\n",
       "      <td>-1</td>\n",
       "    </tr>\n",
       "    <tr>\n",
       "      <th>CHAN Kam-lam</th>\n",
       "      <td>-1</td>\n",
       "      <td>-1</td>\n",
       "      <td>-1</td>\n",
       "      <td>-1</td>\n",
       "      <td>0</td>\n",
       "      <td>-1</td>\n",
       "      <td>-1</td>\n",
       "      <td>1</td>\n",
       "      <td>1</td>\n",
       "      <td>-1</td>\n",
       "      <td>...</td>\n",
       "      <td>0</td>\n",
       "      <td>0</td>\n",
       "      <td>0</td>\n",
       "      <td>0</td>\n",
       "      <td>0</td>\n",
       "      <td>0</td>\n",
       "      <td>1</td>\n",
       "      <td>0</td>\n",
       "      <td>-1</td>\n",
       "      <td>1</td>\n",
       "    </tr>\n",
       "  </tbody>\n",
       "</table>\n",
       "<p>5 rows × 2928 columns</p>\n",
       "</div>"
      ],
      "text/plain": [
       "               01/02/2013-1 01/02/2013-2 01/02/2013-3 01/02/2013-4  \\\n",
       "TSANG Yok-sing            0            0            0            0   \n",
       "Albert HO                 1            1            1            1   \n",
       "LEE Cheuk-yan             1            1            1            1   \n",
       "James TO                  1            1            1            1   \n",
       "CHAN Kam-lam             -1           -1           -1           -1   \n",
       "\n",
       "               01/02/2013-5 01/02/2013-6 01/02/2013-7 01/02/2013-8  \\\n",
       "TSANG Yok-sing            0            0            0            0   \n",
       "Albert HO                -1            1            1           -1   \n",
       "LEE Cheuk-yan             1            1            1           -1   \n",
       "James TO                 -1            1            1           -1   \n",
       "CHAN Kam-lam              0           -1           -1            1   \n",
       "\n",
       "               03/06/2015-1 03/06/2015-10      ...      31/10/2012-2  \\\n",
       "TSANG Yok-sing            0             0      ...                 0   \n",
       "Albert HO                 0             0      ...                 1   \n",
       "LEE Cheuk-yan             0             0      ...                 0   \n",
       "James TO                  0             0      ...                 1   \n",
       "CHAN Kam-lam              1            -1      ...                 0   \n",
       "\n",
       "               31/10/2012-3 31/10/2012-4 31/10/2012-5 31/10/2012-6  \\\n",
       "TSANG Yok-sing            0            0            0            0   \n",
       "Albert HO                 1            1            1            1   \n",
       "LEE Cheuk-yan             0            0            0            0   \n",
       "James TO                  1            1            0            0   \n",
       "CHAN Kam-lam              0            0            0            0   \n",
       "\n",
       "               31/10/2012-7 31/10/2012-8 31/10/2012-9 31/10/2014-38  \\\n",
       "TSANG Yok-sing            0            0            0             0   \n",
       "Albert HO                 1           -1           -1             1   \n",
       "LEE Cheuk-yan             0            0            0             1   \n",
       "James TO                  0            0            0             1   \n",
       "CHAN Kam-lam              0            1            0            -1   \n",
       "\n",
       "               31/10/2014-39  \n",
       "TSANG Yok-sing             0  \n",
       "Albert HO                 -1  \n",
       "LEE Cheuk-yan             -1  \n",
       "James TO                  -1  \n",
       "CHAN Kam-lam               1  \n",
       "\n",
       "[5 rows x 2928 columns]"
      ]
     },
     "execution_count": 12,
     "metadata": {},
     "output_type": "execute_result"
    }
   ],
   "source": [
    "def to_numeric(x):\n",
    "    x[(x != 'Yes') & (x != 'No')] = 0\n",
    "    x[x == 'Yes'] = 1\n",
    "    x[x == 'No'] = -1\n",
    "df_matrix.apply(to_numeric)\n",
    "df_matrix[:5]"
   ]
  },
  {
   "cell_type": "code",
   "execution_count": 13,
   "metadata": {
    "collapsed": false
   },
   "outputs": [
    {
     "name": "stdout",
     "output_type": "stream",
     "text": [
      "(2928, 2928)\n"
     ]
    }
   ],
   "source": [
    "X = np.matrix(df_matrix.as_matrix()).astype('float')\n",
    "X = X - np.mean(X, 0)\n",
    "C = X.T * X\n",
    "print(C.shape)"
   ]
  },
  {
   "cell_type": "code",
   "execution_count": 14,
   "metadata": {
    "collapsed": false
   },
   "outputs": [],
   "source": [
    "import scipy.sparse.linalg\n",
    "PA = scipy.sparse.linalg.eigs(C, k=2, which='LM', return_eigenvectors=True)[1]"
   ]
  },
  {
   "cell_type": "code",
   "execution_count": 33,
   "metadata": {
    "collapsed": false
   },
   "outputs": [
    {
     "name": "stdout",
     "output_type": "stream",
     "text": [
      "Using matplotlib backend: MacOSX\n",
      "(3, 70)\n"
     ]
    },
    {
     "name": "stderr",
     "output_type": "stream",
     "text": [
      "/Users/hupili/Desktop/initium/hk_legco/venv/lib/python3.4/site-packages/IPython/kernel/__main__.py:19: ComplexWarning: Casting complex values to real discards the imaginary part\n",
      "/Users/hupili/Desktop/initium/hk_legco/venv/lib/python3.4/site-packages/IPython/kernel/__main__.py:20: ComplexWarning: Casting complex values to real discards the imaginary part\n",
      "/Users/hupili/Desktop/initium/hk_legco/venv/lib/python3.4/site-packages/IPython/kernel/__main__.py:21: ComplexWarning: Casting complex values to real discards the imaginary part\n"
     ]
    },
    {
     "data": {
      "text/plain": [
       "<mpl_toolkits.mplot3d.art3d.Path3DCollection at 0x1182900f0>"
      ]
     },
     "execution_count": 33,
     "metadata": {},
     "output_type": "execute_result"
    }
   ],
   "source": [
    "# Use the following one to pop up the 3D plot in another window.\n",
    "# Good for interactive exploration.\n",
    "# May or may not be available due to your desktop.\n",
    "#%pylab \n",
    "#matplotlib.use('TkAgg') \n",
    "# Use the following one to plot inline (embedded in this notebook).\n",
    "%matplotlib\n",
    "\n",
    "\n",
    "# Try 3D\n",
    "PA = scipy.sparse.linalg.eigs(C, k=3, which='LM', return_eigenvectors=True)[1]\n",
    "# Project data points onto principle axis\n",
    "X_3D = PA.T * X.T\n",
    "print(X_3D.shape)\n",
    "# We intentionally add some disturbance for better visualization.\n",
    "# Or else, some of the nodes are located in the same place.\n",
    "# (Those who vote exactly the same)\n",
    "X_3D = X_3D + scipy.randn(*tuple(X_3D.shape)) * 0.3\n",
    "x = np.array(X_3D[0, :]).astype('float')\n",
    "y = np.array(X_3D[1, :]).astype('float')\n",
    "z = np.array(X_3D[2, :]).astype('float')\n",
    "\n",
    "from mpl_toolkits.mplot3d import Axes3D\n",
    "fig = plt.figure()\n",
    "ax = fig.add_subplot(111, projection='3d')\n",
    "\n",
    "def onpick(event):\n",
    "    if hasattr(onpick, '_label'):\n",
    "        #pass\n",
    "        onpick._label.remove()\n",
    "    thisline = event.artist\n",
    "    ind = event.ind\n",
    "    #print type(ind)\n",
    "    #print X_3D[0, ind]\n",
    "    names = df.iloc[ind].index.values\n",
    "    label = ('\\n'.join(names))\n",
    "    pos = (X_3D[0, ind[0]], X_3D[1, ind[0]], X_3D[2, ind[0]])\n",
    "    #onpick._label = ax.set_title(label\n",
    "    onpick._label = ax.text(*pos, s=label)\n",
    "    fig.canvas.draw()\n",
    "    \n",
    "fig.canvas.mpl_connect('pick_event', onpick)\n",
    "\n",
    "\n",
    "ax.scatter(x, y, z, picker=True, s=100)"
   ]
  },
  {
   "cell_type": "code",
   "execution_count": 16,
   "metadata": {
    "collapsed": false,
    "scrolled": true
   },
   "outputs": [
    {
     "data": {
      "text/plain": [
       "[-53.628290826136372, 47.691493404470599, 0, 72]"
      ]
     },
     "execution_count": 16,
     "metadata": {},
     "output_type": "execute_result"
    }
   ],
   "source": [
    "#x = -x\n",
    "df_pc1 = pd.DataFrame(x.flatten(), index=df_matrix.index, columns=['PC1'])\n",
    "if df_pc1.ix['TSANG Yok-sing'].PC1 < df_pc1.ix['LEUNG Kwok-hung'].PC1:\n",
    "    df_pc1.PC1 = df_pc1.PC1.apply(lambda x: -x)\n",
    "df_pc1 = df_pc1.sort('PC1')\n",
    "plt.figure(figsize=(12, 20))\n",
    "plt.plot(df_pc1['PC1'], df_pc1.rank()['PC1'], 'd', markersize=10)\n",
    "#yticks(df_pc1.rank()['PC1'], df_pc1.index)\n",
    "for (_x, _y, _s) in zip(df_pc1['PC1'], df_pc1.rank()['PC1'], df_pc1.index):\n",
    "    plt.annotate(_s, (_x, _y), xytext=(_x + 0.5, _y - 0.2))\n",
    "plt.title('Spectrum from Principal Component 1')\n",
    "plt.axis([df_pc1.PC1.min() - 2, df_pc1.PC1.max() + 15, 0, 72])"
   ]
  },
  {
   "cell_type": "code",
   "execution_count": 17,
   "metadata": {
    "collapsed": false
   },
   "outputs": [],
   "source": [
    "df_pcs = pd.DataFrame(list(zip(list(x.flatten()), list(y.flatten()), list(z.flatten()))), \n",
    "                      index=df_matrix.index, columns=['PC1', 'PC2', 'PC3'])"
   ]
  },
  {
   "cell_type": "code",
   "execution_count": 18,
   "metadata": {
    "collapsed": false
   },
   "outputs": [],
   "source": [
    "df_pcs.to_csv(path.join(config.DIR_DATA_ROOT, 'voting-PC1to3.csv'))"
   ]
  },
  {
   "cell_type": "code",
   "execution_count": 19,
   "metadata": {
    "collapsed": false
   },
   "outputs": [
    {
     "data": {
      "text/plain": [
       "0    2928\n",
       "dtype: int64"
      ]
     },
     "execution_count": 19,
     "metadata": {},
     "output_type": "execute_result"
    }
   ],
   "source": [
    "df_matrix_orig.ix['TSANG Yok-sing'].value_counts()"
   ]
  },
  {
   "cell_type": "code",
   "execution_count": 20,
   "metadata": {
    "collapsed": false
   },
   "outputs": [],
   "source": [
    "df_tsang = pd.DataFrame()\n",
    "df_tsang['Absent'] = df_matrix_orig.ix['TSANG Yok-sing'][df_matrix_orig.ix['TSANG Yok-sing'] == 'Absent']"
   ]
  },
  {
   "cell_type": "code",
   "execution_count": 21,
   "metadata": {
    "collapsed": false
   },
   "outputs": [],
   "source": [
    "df_info = pd.read_csv(path.join(config.DIR_DATA_ROOT, 'records-all-with-info.csv'), \n",
    "                 encoding='utf-8')"
   ]
  },
  {
   "cell_type": "code",
   "execution_count": 22,
   "metadata": {
    "collapsed": false
   },
   "outputs": [],
   "source": [
    "df_motion = df_info[['topic_id', 'motion-en']].drop_duplicates().set_index('topic_id')"
   ]
  },
  {
   "cell_type": "code",
   "execution_count": 23,
   "metadata": {
    "collapsed": false
   },
   "outputs": [],
   "source": [
    "df_tsang.join(df_motion).to_csv(path.join(config.DIR_DATA_ROOT, 'tsang-absent.csv'))"
   ]
  },
  {
   "cell_type": "code",
   "execution_count": 24,
   "metadata": {
    "collapsed": false
   },
   "outputs": [
    {
     "data": {
      "text/plain": [
       "TSANG Yok-sing        2902\n",
       "Emily LAU             1099\n",
       "SIN Chung-kai         1083\n",
       "CHEUNG Kwok-che       1045\n",
       "Cyd HO                 991\n",
       "Albert HO              880\n",
       "Charles Peter MOK      874\n",
       "Kenneth LEUNG          562\n",
       "WU Chi-wai             530\n",
       "Alan LEONG             501\n",
       "Dennis KWOK            310\n",
       "Dr KWOK Ka-ki          302\n",
       "LEE Cheuk-yan          300\n",
       "Dr Fernando CHEUNG     267\n",
       "Dr Kenneth CHAN        265\n",
       "Dr Helena WONG         251\n",
       "James TO               190\n",
       "IP Kin-yuen            186\n",
       "Prof Joseph LEE        165\n",
       "Frederick FUNG         142\n",
       "Ronny TONG              84\n",
       "Claudia MO              36\n",
       "Andrew LEUNG            26\n",
       "CHAN Yuen-han            7\n",
       "Abraham SHEK             7\n",
       "WONG Kwok-hing           6\n",
       "KWOK Wai-keung           6\n",
       "Albert CHAN              5\n",
       "Dr Elizabeth QUAT        4\n",
       "Alice MAK                4\n",
       "WONG Kwok-kin            4\n",
       "TANG Ka-piu              4\n",
       "LEUNG Kwok-hung          3\n",
       "MA Fung-kwok             3\n",
       "CHAN Chi-chuen           3\n",
       "POON Siu-ping            3\n",
       "Tommy CHEUNG             2\n",
       "LEUNG Yiu-chung          2\n",
       "Christopher CHUNG        2\n",
       "CHAN Hak-kan             2\n",
       "CHAN Kin-por             2\n",
       "WONG Ting-kwong          2\n",
       "Frankie YICK             1\n",
       "YIU Si-wing              1\n",
       "Dr CHIANG Lai-wan        1\n",
       "Paul TSE                 1\n",
       "James TIEN               1\n",
       "IP Kwok-him              1\n",
       "NG Leung-sing            1\n",
       "dtype: int64"
      ]
     },
     "execution_count": 24,
     "metadata": {},
     "output_type": "execute_result"
    }
   ],
   "source": [
    "df_info[df_info.vote == 'Present']['member_id'].value_counts()"
   ]
  },
  {
   "cell_type": "code",
   "execution_count": 25,
   "metadata": {
    "collapsed": false
   },
   "outputs": [],
   "source": [
    "combined_topic_vote = df_info[df_info.vote == 'Present'][['topic_id', 'vote']].apply(lambda x: (x[0], x[1]), axis=1)"
   ]
  },
  {
   "cell_type": "code",
   "execution_count": 26,
   "metadata": {
    "collapsed": false
   },
   "outputs": [],
   "source": [
    "pd.DataFrame(combined_topic_vote.value_counts(), columns = ['Counts']).to_csv(path.join(config.DIR_DATA_ROOT, 'present-stats.csv'))"
   ]
  },
  {
   "cell_type": "code",
   "execution_count": 27,
   "metadata": {
    "collapsed": false
   },
   "outputs": [],
   "source": [
    "possible_members = df_info.member_id.unique()\n",
    "possible_topics = df_info.topic_id.unique()\n",
    "possible_votes = df_info.vote.unique()"
   ]
  },
  {
   "cell_type": "code",
   "execution_count": 28,
   "metadata": {
    "collapsed": false
   },
   "outputs": [],
   "source": [
    "#df_leaderboard = pd.DataFrame(possible_members, index=possible_members, columns=['Name'])\n",
    "df_leaderboard = pd.DataFrame(index=possible_members)\n",
    "for v in possible_votes: #['Yes', 'No', 'Present', 'Absent', 'Abstain']:\n",
    "    value_counts = df_info[df_info.vote == v]['member_id'].value_counts()\n",
    "    df_leaderboard = df_leaderboard.join(pd.DataFrame(value_counts,\n",
    "                                                      index=possible_members,\n",
    "                                                      columns=[v]))\n",
    "df_leaderboard = df_leaderboard.fillna(0)\n",
    "df_leaderboard['Total'] = df_leaderboard.apply(lambda x: x.sum(), axis=1)\n",
    "df_leaderboard.sort('Present', ascending=False)\n",
    "df_leaderboard.to_csv(path.join(config.DIR_DATA_ROOT, 'member-vote-stats.csv'))"
   ]
  },
  {
   "cell_type": "code",
   "execution_count": 29,
   "metadata": {
    "collapsed": false
   },
   "outputs": [
    {
     "data": {
      "text/html": [
       "<div>\n",
       "<table border=\"1\" class=\"dataframe\">\n",
       "  <thead>\n",
       "    <tr style=\"text-align: right;\">\n",
       "      <th></th>\n",
       "      <th>0</th>\n",
       "    </tr>\n",
       "  </thead>\n",
       "  <tbody>\n",
       "    <tr>\n",
       "      <th>TSANG Yok-sing</th>\n",
       "      <td>NaN</td>\n",
       "    </tr>\n",
       "    <tr>\n",
       "      <th>Albert HO</th>\n",
       "      <td>42</td>\n",
       "    </tr>\n",
       "    <tr>\n",
       "      <th>LEE Cheuk-yan</th>\n",
       "      <td>32</td>\n",
       "    </tr>\n",
       "    <tr>\n",
       "      <th>James TO</th>\n",
       "      <td>42</td>\n",
       "    </tr>\n",
       "    <tr>\n",
       "      <th>CHAN Kam-lam</th>\n",
       "      <td>117</td>\n",
       "    </tr>\n",
       "    <tr>\n",
       "      <th>LEUNG Yiu-chung</th>\n",
       "      <td>26</td>\n",
       "    </tr>\n",
       "    <tr>\n",
       "      <th>Dr LAU Wong-fat</th>\n",
       "      <td>15</td>\n",
       "    </tr>\n",
       "    <tr>\n",
       "      <th>Emily LAU</th>\n",
       "      <td>51</td>\n",
       "    </tr>\n",
       "    <tr>\n",
       "      <th>TAM Yiu-chung</th>\n",
       "      <td>117</td>\n",
       "    </tr>\n",
       "    <tr>\n",
       "      <th>Abraham SHEK</th>\n",
       "      <td>42</td>\n",
       "    </tr>\n",
       "    <tr>\n",
       "      <th>Tommy CHEUNG</th>\n",
       "      <td>23</td>\n",
       "    </tr>\n",
       "    <tr>\n",
       "      <th>Frederick FUNG</th>\n",
       "      <td>18</td>\n",
       "    </tr>\n",
       "    <tr>\n",
       "      <th>Vincent FANG</th>\n",
       "      <td>15</td>\n",
       "    </tr>\n",
       "    <tr>\n",
       "      <th>WONG Kwok-hing</th>\n",
       "      <td>83</td>\n",
       "    </tr>\n",
       "    <tr>\n",
       "      <th>Prof Joseph LEE</th>\n",
       "      <td>115</td>\n",
       "    </tr>\n",
       "    <tr>\n",
       "      <th>Jeffrey LAM</th>\n",
       "      <td>79</td>\n",
       "    </tr>\n",
       "    <tr>\n",
       "      <th>Andrew LEUNG</th>\n",
       "      <td>77</td>\n",
       "    </tr>\n",
       "    <tr>\n",
       "      <th>WONG Ting-kwong</th>\n",
       "      <td>110</td>\n",
       "    </tr>\n",
       "    <tr>\n",
       "      <th>Ronny TONG</th>\n",
       "      <td>19</td>\n",
       "    </tr>\n",
       "    <tr>\n",
       "      <th>Cyd HO</th>\n",
       "      <td>38</td>\n",
       "    </tr>\n",
       "    <tr>\n",
       "      <th>Starry LEE</th>\n",
       "      <td>105</td>\n",
       "    </tr>\n",
       "    <tr>\n",
       "      <th>Dr LAM Tai-fai</th>\n",
       "      <td>57</td>\n",
       "    </tr>\n",
       "    <tr>\n",
       "      <th>CHAN Hak-kan</th>\n",
       "      <td>104</td>\n",
       "    </tr>\n",
       "    <tr>\n",
       "      <th>CHAN Kin-por</th>\n",
       "      <td>62</td>\n",
       "    </tr>\n",
       "    <tr>\n",
       "      <th>Dr Priscilla LEUNG</th>\n",
       "      <td>80</td>\n",
       "    </tr>\n",
       "    <tr>\n",
       "      <th>Dr LEUNG Ka-lau</th>\n",
       "      <td>59</td>\n",
       "    </tr>\n",
       "    <tr>\n",
       "      <th>CHEUNG Kwok-che</th>\n",
       "      <td>38</td>\n",
       "    </tr>\n",
       "    <tr>\n",
       "      <th>WONG Kwok-kin</th>\n",
       "      <td>78</td>\n",
       "    </tr>\n",
       "    <tr>\n",
       "      <th>IP Kwok-him</th>\n",
       "      <td>119</td>\n",
       "    </tr>\n",
       "    <tr>\n",
       "      <th>Mrs Regina IP</th>\n",
       "      <td>36</td>\n",
       "    </tr>\n",
       "    <tr>\n",
       "      <th>...</th>\n",
       "      <td>...</td>\n",
       "    </tr>\n",
       "    <tr>\n",
       "      <th>Frankie YICK</th>\n",
       "      <td>28</td>\n",
       "    </tr>\n",
       "    <tr>\n",
       "      <th>WU Chi-wai</th>\n",
       "      <td>44</td>\n",
       "    </tr>\n",
       "    <tr>\n",
       "      <th>YIU Si-wing</th>\n",
       "      <td>69</td>\n",
       "    </tr>\n",
       "    <tr>\n",
       "      <th>Gary FAN</th>\n",
       "      <td>482</td>\n",
       "    </tr>\n",
       "    <tr>\n",
       "      <th>MA Fung-kwok</th>\n",
       "      <td>123</td>\n",
       "    </tr>\n",
       "    <tr>\n",
       "      <th>Charles Peter MOK</th>\n",
       "      <td>19</td>\n",
       "    </tr>\n",
       "    <tr>\n",
       "      <th>CHAN Chi-chuen</th>\n",
       "      <td>55</td>\n",
       "    </tr>\n",
       "    <tr>\n",
       "      <th>CHAN Han-pan</th>\n",
       "      <td>85</td>\n",
       "    </tr>\n",
       "    <tr>\n",
       "      <th>Dr Kenneth CHAN</th>\n",
       "      <td>21</td>\n",
       "    </tr>\n",
       "    <tr>\n",
       "      <th>CHAN Yuen-han</th>\n",
       "      <td>56</td>\n",
       "    </tr>\n",
       "    <tr>\n",
       "      <th>LEUNG Che-cheung</th>\n",
       "      <td>77</td>\n",
       "    </tr>\n",
       "    <tr>\n",
       "      <th>Kenneth LEUNG</th>\n",
       "      <td>49</td>\n",
       "    </tr>\n",
       "    <tr>\n",
       "      <th>Alice MAK</th>\n",
       "      <td>81</td>\n",
       "    </tr>\n",
       "    <tr>\n",
       "      <th>Dr KWOK Ka-ki</th>\n",
       "      <td>24</td>\n",
       "    </tr>\n",
       "    <tr>\n",
       "      <th>KWOK Wai-keung</th>\n",
       "      <td>78</td>\n",
       "    </tr>\n",
       "    <tr>\n",
       "      <th>Dennis KWOK</th>\n",
       "      <td>14</td>\n",
       "    </tr>\n",
       "    <tr>\n",
       "      <th>Christopher CHEUNG</th>\n",
       "      <td>76</td>\n",
       "    </tr>\n",
       "    <tr>\n",
       "      <th>Dr Fernando CHEUNG</th>\n",
       "      <td>42</td>\n",
       "    </tr>\n",
       "    <tr>\n",
       "      <th>SIN Chung-kai</th>\n",
       "      <td>55</td>\n",
       "    </tr>\n",
       "    <tr>\n",
       "      <th>Dr Helena WONG</th>\n",
       "      <td>49</td>\n",
       "    </tr>\n",
       "    <tr>\n",
       "      <th>IP Kin-yuen</th>\n",
       "      <td>47</td>\n",
       "    </tr>\n",
       "    <tr>\n",
       "      <th>Dr Elizabeth QUAT</th>\n",
       "      <td>97</td>\n",
       "    </tr>\n",
       "    <tr>\n",
       "      <th>Martin LIAO</th>\n",
       "      <td>68</td>\n",
       "    </tr>\n",
       "    <tr>\n",
       "      <th>POON Siu-ping</th>\n",
       "      <td>95</td>\n",
       "    </tr>\n",
       "    <tr>\n",
       "      <th>TANG Ka-piu</th>\n",
       "      <td>86</td>\n",
       "    </tr>\n",
       "    <tr>\n",
       "      <th>Dr CHIANG Lai-wan</th>\n",
       "      <td>108</td>\n",
       "    </tr>\n",
       "    <tr>\n",
       "      <th>Ir Dr LO Wai-kwok</th>\n",
       "      <td>87</td>\n",
       "    </tr>\n",
       "    <tr>\n",
       "      <th>CHUNG Kwok-pan</th>\n",
       "      <td>20</td>\n",
       "    </tr>\n",
       "    <tr>\n",
       "      <th>Christopher CHUNG</th>\n",
       "      <td>88</td>\n",
       "    </tr>\n",
       "    <tr>\n",
       "      <th>Tony TSE</th>\n",
       "      <td>78</td>\n",
       "    </tr>\n",
       "  </tbody>\n",
       "</table>\n",
       "<p>70 rows × 1 columns</p>\n",
       "</div>"
      ],
      "text/plain": [
       "                      0\n",
       "TSANG Yok-sing      NaN\n",
       "Albert HO            42\n",
       "LEE Cheuk-yan        32\n",
       "James TO             42\n",
       "CHAN Kam-lam        117\n",
       "LEUNG Yiu-chung      26\n",
       "Dr LAU Wong-fat      15\n",
       "Emily LAU            51\n",
       "TAM Yiu-chung       117\n",
       "Abraham SHEK         42\n",
       "Tommy CHEUNG         23\n",
       "Frederick FUNG       18\n",
       "Vincent FANG         15\n",
       "WONG Kwok-hing       83\n",
       "Prof Joseph LEE     115\n",
       "Jeffrey LAM          79\n",
       "Andrew LEUNG         77\n",
       "WONG Ting-kwong     110\n",
       "Ronny TONG           19\n",
       "Cyd HO               38\n",
       "Starry LEE          105\n",
       "Dr LAM Tai-fai       57\n",
       "CHAN Hak-kan        104\n",
       "CHAN Kin-por         62\n",
       "Dr Priscilla LEUNG   80\n",
       "Dr LEUNG Ka-lau      59\n",
       "CHEUNG Kwok-che      38\n",
       "WONG Kwok-kin        78\n",
       "IP Kwok-him         119\n",
       "Mrs Regina IP        36\n",
       "...                 ...\n",
       "Frankie YICK         28\n",
       "WU Chi-wai           44\n",
       "YIU Si-wing          69\n",
       "Gary FAN            482\n",
       "MA Fung-kwok        123\n",
       "Charles Peter MOK    19\n",
       "CHAN Chi-chuen       55\n",
       "CHAN Han-pan         85\n",
       "Dr Kenneth CHAN      21\n",
       "CHAN Yuen-han        56\n",
       "LEUNG Che-cheung     77\n",
       "Kenneth LEUNG        49\n",
       "Alice MAK            81\n",
       "Dr KWOK Ka-ki        24\n",
       "KWOK Wai-keung       78\n",
       "Dennis KWOK          14\n",
       "Christopher CHEUNG   76\n",
       "Dr Fernando CHEUNG   42\n",
       "SIN Chung-kai        55\n",
       "Dr Helena WONG       49\n",
       "IP Kin-yuen          47\n",
       "Dr Elizabeth QUAT    97\n",
       "Martin LIAO          68\n",
       "POON Siu-ping        95\n",
       "TANG Ka-piu          86\n",
       "Dr CHIANG Lai-wan   108\n",
       "Ir Dr LO Wai-kwok    87\n",
       "CHUNG Kwok-pan       20\n",
       "Christopher CHUNG    88\n",
       "Tony TSE             78\n",
       "\n",
       "[70 rows x 1 columns]"
      ]
     },
     "execution_count": 29,
     "metadata": {},
     "output_type": "execute_result"
    }
   ],
   "source": [
    "pd.DataFrame(df_info[df_info.vote == v]['member_id'].value_counts(),\n",
    "                                    index=possible_members)"
   ]
  },
  {
   "cell_type": "code",
   "execution_count": 30,
   "metadata": {
    "collapsed": false
   },
   "outputs": [
    {
     "name": "stderr",
     "output_type": "stream",
     "text": [
      "/Users/hupili/Desktop/initium/hk_legco/venv/lib/python3.4/site-packages/pandas/core/frame.py:1825: UserWarning: Boolean Series key will be reindexed to match DataFrame index.\n",
      "  \"DataFrame index.\", UserWarning)\n"
     ]
    }
   ],
   "source": [
    "df_leung_motions = df_info[df_info['mover-en'] == 'LEUNG Kwok-hung'][df_info['member_id'] == 'LEUNG Kwok-hung']"
   ]
  },
  {
   "cell_type": "code",
   "execution_count": 31,
   "metadata": {
    "collapsed": false
   },
   "outputs": [],
   "source": [
    "import datetime\n",
    "def datestr_to_datetime(datestr):\n",
    "    d, m, y = datestr.split('/')\n",
    "    return datetime.datetime(int(y), int(m), int(d))\n",
    "    \n",
    "#df_leung_motions['vote-date-y'] = df_leung_motions['vote-date'].apply(lambda x: x.split('/')[2])\n",
    "#df_leung_motions['vote-date-m'] = df_leung_motions['vote-date'].apply(lambda x: x.split('/')[1])\n",
    "#df_leung_motions['vote-date-d'] = df_leung_motions['vote-date'].apply(lambda x: x.split('/')[0])\n",
    "\n",
    "df_leung_motions['vote-date-dt'] = df_leung_motions['vote-date'].apply(datestr_to_datetime)"
   ]
  },
  {
   "cell_type": "code",
   "execution_count": 32,
   "metadata": {
    "collapsed": false
   },
   "outputs": [
    {
     "ename": "NameError",
     "evalue": "name 'figsize' is not defined",
     "output_type": "error",
     "traceback": [
      "\u001b[0;31m---------------------------------------------------------------------------\u001b[0m",
      "\u001b[0;31mNameError\u001b[0m                                 Traceback (most recent call last)",
      "\u001b[0;32m<ipython-input-32-148c03572015>\u001b[0m in \u001b[0;36m<module>\u001b[0;34m()\u001b[0m\n\u001b[0;32m----> 1\u001b[0;31m \u001b[0mfigsize\u001b[0m\u001b[0;34m(\u001b[0m\u001b[0;36m5\u001b[0m\u001b[0;34m,\u001b[0m \u001b[0;36m5\u001b[0m\u001b[0;34m)\u001b[0m\u001b[0;34m\u001b[0m\u001b[0m\n\u001b[0m\u001b[1;32m      2\u001b[0m \u001b[0mprint\u001b[0m\u001b[0;34m(\u001b[0m\u001b[0mlen\u001b[0m\u001b[0;34m(\u001b[0m\u001b[0mdf_leung_motions\u001b[0m\u001b[0;34m)\u001b[0m\u001b[0;34m)\u001b[0m\u001b[0;34m\u001b[0m\u001b[0m\n",
      "\u001b[0;31mNameError\u001b[0m: name 'figsize' is not defined"
     ]
    }
   ],
   "source": [
    "figsize(5, 5)\n",
    "print(len(df_leung_motions))"
   ]
  },
  {
   "cell_type": "code",
   "execution_count": null,
   "metadata": {
    "collapsed": false
   },
   "outputs": [],
   "source": [
    "df_leung_motions.set_index('vote-date-dt').resample('1w', how='count').topic_id.plot()"
   ]
  },
  {
   "cell_type": "code",
   "execution_count": null,
   "metadata": {
    "collapsed": false
   },
   "outputs": [],
   "source": [
    "self_motions = df_info[df_info['member_id']==df_info['mover-en']]"
   ]
  },
  {
   "cell_type": "code",
   "execution_count": null,
   "metadata": {
    "collapsed": false
   },
   "outputs": [],
   "source": [
    "self_motions[self_motions.vote != 'Yes'].to_csv(\n",
    "    path.join(config.DIR_DATA_ROOT, 'self-motions-non-yes.csv'))"
   ]
  },
  {
   "cell_type": "code",
   "execution_count": null,
   "metadata": {
    "collapsed": false
   },
   "outputs": [],
   "source": [
    "df_vote_time = df_info[['topic_id', 'vote-time']].drop_duplicates()\n",
    "df_vote_time['vote-time'].apply(lambda x: int(x[:2])).hist(bins=24)\n",
    "df_vote_time['vote-time'].apply(lambda x: int(x[:2])).value_counts()"
   ]
  },
  {
   "cell_type": "code",
   "execution_count": null,
   "metadata": {
    "collapsed": false
   },
   "outputs": [],
   "source": [
    "df_info['vote-time-h'] = df_vote_time['vote-time'].apply(lambda x: int(x[:2]))\n",
    "df_rare_time_votes = df_info[(df_info['vote-time-h'] == 23) \n",
    "                             | (df_info['vote-time-h'] == 13) \n",
    "                             | (df_info['vote-time-h'] == 0)]\n",
    "df_rare_time_votes.to_csv(path.join(config.DIR_DATA_ROOT, 'rare-time-votes.csv'))"
   ]
  },
  {
   "cell_type": "code",
   "execution_count": null,
   "metadata": {
    "collapsed": false
   },
   "outputs": [],
   "source": [
    "s_total = df_info['mover-en'].value_counts()\n",
    "df_mover_stats = pd.DataFrame(s_total / 70, columns = ['Total motions'])\n",
    "df_mover_stats['Total Votes Obtained'] = s_total\n",
    "for vote in possible_votes:\n",
    "    s_vote = df_info[df_info.vote == vote]['mover-en'].value_counts()\n",
    "    df_mover_stats[vote] = s_vote\n",
    "    df_mover_stats['%s Ratio' % vote] = s_vote / s_total\n",
    "df_mover_stats = df_mover_stats.fillna(0)\n",
    "df_mover_stats.to_csv(path.join(config.DIR_DATA_ROOT, 'mover-stats.csv'))"
   ]
  },
  {
   "cell_type": "code",
   "execution_count": null,
   "metadata": {
    "collapsed": false
   },
   "outputs": [],
   "source": [
    "for (gname, g) in df_info.groupby(['mover-en', 'name-en']):\n",
    "    print(gname, '\\n', g.vote.value_counts())\n",
    "#len(df_info)"
   ]
  },
  {
   "cell_type": "code",
   "execution_count": null,
   "metadata": {
    "collapsed": false
   },
   "outputs": [],
   "source": [
    "g"
   ]
  }
 ],
 "metadata": {
  "kernelspec": {
   "display_name": "Python 3",
   "language": "python",
   "name": "python3"
  },
  "language_info": {
   "codemirror_mode": {
    "name": "ipython",
    "version": 3
   },
   "file_extension": ".py",
   "mimetype": "text/x-python",
   "name": "python",
   "nbconvert_exporter": "python",
   "pygments_lexer": "ipython3",
   "version": "3.4.3"
  }
 },
 "nbformat": 4,
 "nbformat_minor": 0
}
